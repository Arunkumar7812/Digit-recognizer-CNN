{
  "cells": [
    {
      "cell_type": "code",
      "execution_count": 12,
      "metadata": {
        "id": "OGyzwpwalP2-"
      },
      "outputs": [],
      "source": [
        "import pandas as pd\n",
        "import numpy as np\n",
        "import tensorflow as tf\n",
        "from tensorflow.keras.models import Sequential\n",
        "from tensorflow.keras.layers import Conv2D, MaxPooling2D, Flatten, Dense, Dropout\n",
        "from tensorflow.keras.utils import to_categorical\n",
        "from sklearn.model_selection import train_test_split"
      ]
    },
    {
      "cell_type": "code",
      "execution_count": 13,
      "metadata": {
        "id": "8weEcKWzlrio"
      },
      "outputs": [],
      "source": [
        "train_df = pd.read_csv(\"train.csv\", on_bad_lines='skip')\n",
        "test_df = pd.read_csv(\"test.csv\", on_bad_lines='skip')\n",
        "submission_df = pd.read_csv(\"sample_submission.csv\")"
      ]
    },
    {
      "cell_type": "code",
      "execution_count": 14,
      "metadata": {
        "id": "T9orWib4nm6I"
      },
      "outputs": [],
      "source": [
        "# Separate features (X) and labels (y)\n",
        "X_train_full = train_df.drop(train_df.columns[0], axis=1)\n",
        "y_train_full = train_df[train_df.columns[0]]\n",
        "X_test = test_df.values"
      ]
    },
    {
      "cell_type": "code",
      "execution_count": 15,
      "metadata": {
        "id": "96TSHWhzn3a9"
      },
      "outputs": [],
      "source": [
        "#  2. Preprocess Data\n",
        "\n",
        "# Convert labels to integer\n",
        "y_train_full_numeric = pd.to_numeric(y_train_full, errors='coerce')\n",
        "\n",
        "valid_indices = y_train_full_numeric.dropna().index\n",
        "\n",
        "X_train_full = X_train_full.loc[valid_indices].values\n",
        "y_train_full = y_train_full_numeric.dropna().values\n",
        "\n",
        "\n",
        "X_test = test_df.apply(pd.to_numeric, errors='coerce').dropna().values\n",
        "\n",
        "\n",
        "X_train_full = X_train_full.astype(float) / 255.0\n",
        "X_test = X_test.astype(float) / 255.0\n",
        "\n",
        "\n",
        "# Reshape the data for CNN input: (samples, height, width, channels)\n",
        "# The MNIST digits are 28x28 grayscale images, so channel is 1.\n",
        "IMG_WIDTH = 28\n",
        "IMG_HEIGHT = 28\n",
        "CHANNELS = 1\n",
        "NUM_CLASSES = 10\n",
        "\n",
        "X_train_full = X_train_full.reshape(-1, IMG_WIDTH, IMG_HEIGHT, CHANNELS)\n",
        "X_test = X_test.reshape(-1, IMG_WIDTH, IMG_HEIGHT, CHANNELS)\n",
        "\n",
        "# One-hot encode the labels\n",
        "y_train_full = to_categorical(y_train_full, num_classes=NUM_CLASSES)\n",
        "\n",
        "X_train, X_val, y_train, y_val = train_test_split(\n",
        "    X_train_full, y_train_full, test_size=0.1, random_state=42\n",
        ")"
      ]
    },
    {
      "cell_type": "code",
      "execution_count": 16,
      "metadata": {
        "colab": {
          "base_uri": "https://localhost:8080/"
        },
        "id": "fz0wMbpwoxW_",
        "outputId": "7ca6506a-9d5e-4c89-c25a-e9dff5c72143"
      },
      "outputs": [
        {
          "name": "stdout",
          "output_type": "stream",
          "text": [
            "Defining CNN model...\n"
          ]
        },
        {
          "name": "stderr",
          "output_type": "stream",
          "text": [
            "c:\\Users\\Arun kumar\\anaconda3\\envs\\myenv\\lib\\site-packages\\keras\\src\\layers\\convolutional\\base_conv.py:113: UserWarning: Do not pass an `input_shape`/`input_dim` argument to a layer. When using Sequential models, prefer using an `Input(shape)` object as the first layer in the model instead.\n",
            "  super().__init__(activity_regularizer=activity_regularizer, **kwargs)\n"
          ]
        }
      ],
      "source": [
        "\n",
        "print(\"Defining CNN model...\")\n",
        "model = Sequential([\n",
        "    # First Convolutional Block\n",
        "    Conv2D(32, kernel_size=(3, 3), activation='relu', input_shape=(IMG_WIDTH, IMG_HEIGHT, CHANNELS)),\n",
        "    Conv2D(32, kernel_size=(3, 3), activation='relu'),\n",
        "    MaxPooling2D(pool_size=(2, 2)),\n",
        "    Dropout(0.25),\n",
        "\n",
        "    # Second Convolutional Block\n",
        "    Conv2D(64, kernel_size=(3, 3), activation='relu'),\n",
        "    Conv2D(64, kernel_size=(3, 3), activation='relu'),\n",
        "    MaxPooling2D(pool_size=(2, 2)),\n",
        "    Dropout(0.25),\n",
        "\n",
        "    # Fully Connected Layers\n",
        "    Flatten(),\n",
        "    Dense(256, activation='relu'),\n",
        "    Dropout(0.5),\n",
        "    Dense(NUM_CLASSES, activation='softmax') # Output layer for 10 classes (0-9)\n",
        "])"
      ]
    },
    {
      "cell_type": "code",
      "execution_count": 17,
      "metadata": {
        "colab": {
          "base_uri": "https://localhost:8080/"
        },
        "id": "Pxa70Uj2o5pq",
        "outputId": "878d31f3-cb55-41d3-8204-be858a09171d"
      },
      "outputs": [
        {
          "name": "stdout",
          "output_type": "stream",
          "text": [
            "Compiling and training model...\n",
            "Epoch 1/15\n",
            "296/296 - 38s - 128ms/step - accuracy: 0.8878 - loss: 0.3436 - val_accuracy: 0.9776 - val_loss: 0.0747\n",
            "Epoch 2/15\n",
            "296/296 - 41s - 140ms/step - accuracy: 0.9716 - loss: 0.0917 - val_accuracy: 0.9848 - val_loss: 0.0462\n",
            "Epoch 3/15\n",
            "296/296 - 31s - 103ms/step - accuracy: 0.9795 - loss: 0.0669 - val_accuracy: 0.9883 - val_loss: 0.0364\n",
            "Epoch 4/15\n",
            "296/296 - 30s - 101ms/step - accuracy: 0.9831 - loss: 0.0546 - val_accuracy: 0.9902 - val_loss: 0.0310\n",
            "Epoch 5/15\n",
            "296/296 - 41s - 138ms/step - accuracy: 0.9851 - loss: 0.0460 - val_accuracy: 0.9917 - val_loss: 0.0289\n",
            "Epoch 6/15\n",
            "296/296 - 30s - 103ms/step - accuracy: 0.9869 - loss: 0.0408 - val_accuracy: 0.9912 - val_loss: 0.0301\n",
            "Epoch 7/15\n",
            "296/296 - 30s - 101ms/step - accuracy: 0.9888 - loss: 0.0342 - val_accuracy: 0.9910 - val_loss: 0.0281\n",
            "Epoch 8/15\n",
            "296/296 - 30s - 100ms/step - accuracy: 0.9897 - loss: 0.0325 - val_accuracy: 0.9890 - val_loss: 0.0289\n",
            "Epoch 9/15\n",
            "296/296 - 41s - 140ms/step - accuracy: 0.9906 - loss: 0.0290 - val_accuracy: 0.9912 - val_loss: 0.0277\n",
            "Epoch 10/15\n",
            "296/296 - 43s - 146ms/step - accuracy: 0.9917 - loss: 0.0256 - val_accuracy: 0.9940 - val_loss: 0.0223\n",
            "Epoch 11/15\n",
            "296/296 - 40s - 135ms/step - accuracy: 0.9923 - loss: 0.0235 - val_accuracy: 0.9919 - val_loss: 0.0277\n",
            "Epoch 12/15\n",
            "296/296 - 32s - 110ms/step - accuracy: 0.9927 - loss: 0.0220 - val_accuracy: 0.9933 - val_loss: 0.0231\n",
            "Epoch 13/15\n",
            "296/296 - 39s - 132ms/step - accuracy: 0.9927 - loss: 0.0227 - val_accuracy: 0.9936 - val_loss: 0.0241\n",
            "Epoch 14/15\n",
            "296/296 - 34s - 116ms/step - accuracy: 0.9934 - loss: 0.0199 - val_accuracy: 0.9933 - val_loss: 0.0251\n",
            "Epoch 15/15\n",
            "296/296 - 30s - 101ms/step - accuracy: 0.9937 - loss: 0.0190 - val_accuracy: 0.9921 - val_loss: 0.0293\n"
          ]
        }
      ],
      "source": [
        "\n",
        "print(\"Compiling and training model...\")\n",
        "\n",
        "# Compile the model\n",
        "model.compile(optimizer='adam',\n",
        "              loss='categorical_crossentropy',\n",
        "              metrics=['accuracy'])\n",
        "\n",
        "\n",
        "history = model.fit(\n",
        "    X_train, y_train,\n",
        "    batch_size=128,\n",
        "    epochs=15,\n",
        "    validation_data=(X_val, y_val),\n",
        "    verbose=2\n",
        ")"
      ]
    },
    {
      "cell_type": "code",
      "execution_count": 18,
      "metadata": {
        "colab": {
          "base_uri": "https://localhost:8080/"
        },
        "id": "4bIpRB_2pgHZ",
        "outputId": "5fdd0416-b672-4a7f-ca5a-c4de1c6b16b3"
      },
      "outputs": [
        {
          "name": "stdout",
          "output_type": "stream",
          "text": [
            "Making predictions on test data...\n",
            "\u001b[1m875/875\u001b[0m \u001b[32m━━━━━━━━━━━━━━━━━━━━\u001b[0m\u001b[37m\u001b[0m \u001b[1m10s\u001b[0m 11ms/step\n"
          ]
        }
      ],
      "source": [
        "print(\"Making predictions on test data...\")\n",
        "\n",
        "predictions = model.predict(X_test)\n",
        "\n",
        "predicted_labels = np.argmax(predictions, axis=1)"
      ]
    },
    {
      "cell_type": "code",
      "execution_count": 19,
      "metadata": {
        "colab": {
          "base_uri": "https://localhost:8080/"
        },
        "id": "7qzBUKNXpi2G",
        "outputId": "634a346d-94f8-4743-b6e7-4f80d108faa0"
      },
      "outputs": [
        {
          "name": "stdout",
          "output_type": "stream",
          "text": [
            "Generating submission file...\n",
            "Submission file 'submission.csv' successfully created!\n"
          ]
        }
      ],
      "source": [
        "\n",
        "\n",
        "print(\"Generating submission file...\")\n",
        "# The ImageId column should start at 1\n",
        "image_ids = np.arange(1, len(predicted_labels) + 1)\n",
        "\n",
        "submission = pd.DataFrame({\n",
        "    'ImageId': image_ids,\n",
        "    'Label': predicted_labels\n",
        "})\n",
        "\n",
        "submission.to_csv('submission.csv', index=False)\n",
        "print(\"Submission file 'submission.csv' successfully created!\")"
      ]
    },
    {
      "cell_type": "code",
      "execution_count": 23,
      "metadata": {
        "colab": {
          "base_uri": "https://localhost:8080/"
        },
        "id": "6288d272",
        "outputId": "909fbf95-cf38-4f6d-d1e2-baa18a0c605f"
      },
      "outputs": [
        {
          "data": {
            "text/plain": [
              "['cnn_digit_model.keras']"
            ]
          },
          "execution_count": 23,
          "metadata": {},
          "output_type": "execute_result"
        }
      ],
      "source": [
        "import tensorflow as tf\n",
        "# Save the model as a pickle file\n",
        "joblib.dump(model, 'cnn_digit_model.keras')\n"
      ]
    }
  ],
  "metadata": {
    "accelerator": "GPU",
    "colab": {
      "gpuType": "T4",
      "provenance": []
    },
    "kernelspec": {
      "display_name": "myenv",
      "language": "python",
      "name": "python3"
    },
    "language_info": {
      "codemirror_mode": {
        "name": "ipython",
        "version": 3
      },
      "file_extension": ".py",
      "mimetype": "text/x-python",
      "name": "python",
      "nbconvert_exporter": "python",
      "pygments_lexer": "ipython3",
      "version": "3.10.18"
    }
  },
  "nbformat": 4,
  "nbformat_minor": 0
}
